{
 "cells": [
  {
   "cell_type": "code",
   "execution_count": 1,
   "metadata": {},
   "outputs": [],
   "source": [
    "import numpy as np\n",
    "import pandas as pd"
   ]
  },
  {
   "cell_type": "markdown",
   "metadata": {},
   "source": [
    "## Load Data"
   ]
  },
  {
   "cell_type": "code",
   "execution_count": 30,
   "metadata": {},
   "outputs": [],
   "source": [
    "df_seq = pd.read_csv('pdb_data_seq.csv')\n",
    "df_properties = pd.read_csv('pdb_data_no_dups.csv')\n",
    "df_total = df_seq.merge(df_properties,left_on = 'structureId',right_on = 'structureId')"
   ]
  },
  {
   "cell_type": "markdown",
   "metadata": {},
   "source": [
    "## Data Cleaning\n",
    "- Select the data in top n by count, top 10 in our case\n",
    "- Select only the protein sequences\n",
    "- Select protein sequence with only one chain in the dataset"
   ]
  },
  {
   "cell_type": "code",
   "execution_count": 45,
   "metadata": {},
   "outputs": [
    {
     "name": "stdout",
     "output_type": "stream",
     "text": [
      "HYDROLASE                        46336\n",
      "TRANSFERASE                      36424\n",
      "OXIDOREDUCTASE                   34322\n",
      "IMMUNE SYSTEM                    15615\n",
      "LYASE                            11682\n",
      "HYDROLASE/HYDROLASE INHIBITOR    11218\n",
      "TRANSCRIPTION                     8919\n",
      "VIRAL PROTEIN                     8495\n",
      "TRANSPORT PROTEIN                 8371\n",
      "VIRUS                             6972\n",
      "Name: classification, dtype: int64\n"
     ]
    }
   ],
   "source": [
    "df_total=df_total[df_total['macromoleculeType_x'].isin(set(['Protein']))]\n",
    "count = df_total['classification'].value_counts(dropna=False)[:10]\n",
    "print(count)"
   ]
  },
  {
   "cell_type": "code",
   "execution_count": 48,
   "metadata": {},
   "outputs": [
    {
     "data": {
      "text/html": [
       "<div>\n",
       "<style scoped>\n",
       "    .dataframe tbody tr th:only-of-type {\n",
       "        vertical-align: middle;\n",
       "    }\n",
       "\n",
       "    .dataframe tbody tr th {\n",
       "        vertical-align: top;\n",
       "    }\n",
       "\n",
       "    .dataframe thead th {\n",
       "        text-align: right;\n",
       "    }\n",
       "</style>\n",
       "<table border=\"1\" class=\"dataframe\">\n",
       "  <thead>\n",
       "    <tr style=\"text-align: right;\">\n",
       "      <th></th>\n",
       "      <th>structureId</th>\n",
       "      <th>chainId</th>\n",
       "      <th>sequence</th>\n",
       "      <th>residueCount_x</th>\n",
       "      <th>macromoleculeType_x</th>\n",
       "      <th>classification</th>\n",
       "      <th>experimentalTechnique</th>\n",
       "      <th>macromoleculeType_y</th>\n",
       "      <th>residueCount_y</th>\n",
       "      <th>resolution</th>\n",
       "      <th>structureMolecularWeight</th>\n",
       "      <th>crystallizationMethod</th>\n",
       "      <th>crystallizationTempK</th>\n",
       "      <th>densityMatthews</th>\n",
       "      <th>densityPercentSol</th>\n",
       "      <th>pdbxDetails</th>\n",
       "      <th>phValue</th>\n",
       "      <th>publicationYear</th>\n",
       "    </tr>\n",
       "  </thead>\n",
       "  <tbody>\n",
       "    <tr>\n",
       "      <th>67</th>\n",
       "      <td>117E</td>\n",
       "      <td>A</td>\n",
       "      <td>TYTTRQIGAKNTLEYKVYIEKDGKPVSAFHDIPLYADKENNIFNMV...</td>\n",
       "      <td>572</td>\n",
       "      <td>Protein</td>\n",
       "      <td>HYDROLASE</td>\n",
       "      <td>X-RAY DIFFRACTION</td>\n",
       "      <td>Protein</td>\n",
       "      <td>572</td>\n",
       "      <td>2.15</td>\n",
       "      <td>65203.21</td>\n",
       "      <td>NaN</td>\n",
       "      <td>NaN</td>\n",
       "      <td>2.71</td>\n",
       "      <td>54.69</td>\n",
       "      <td>17-19% MPD, 25 MM MES, PH 6.0, 1 MM MNCL2, 0.5...</td>\n",
       "      <td>6.0</td>\n",
       "      <td>1998.0</td>\n",
       "    </tr>\n",
       "    <tr>\n",
       "      <th>68</th>\n",
       "      <td>117E</td>\n",
       "      <td>B</td>\n",
       "      <td>TYTTRQIGAKNTLEYKVYIEKDGKPVSAFHDIPLYADKENNIFNMV...</td>\n",
       "      <td>572</td>\n",
       "      <td>Protein</td>\n",
       "      <td>HYDROLASE</td>\n",
       "      <td>X-RAY DIFFRACTION</td>\n",
       "      <td>Protein</td>\n",
       "      <td>572</td>\n",
       "      <td>2.15</td>\n",
       "      <td>65203.21</td>\n",
       "      <td>NaN</td>\n",
       "      <td>NaN</td>\n",
       "      <td>2.71</td>\n",
       "      <td>54.69</td>\n",
       "      <td>17-19% MPD, 25 MM MES, PH 6.0, 1 MM MNCL2, 0.5...</td>\n",
       "      <td>6.0</td>\n",
       "      <td>1998.0</td>\n",
       "    </tr>\n",
       "    <tr>\n",
       "      <th>76</th>\n",
       "      <td>11BA</td>\n",
       "      <td>A</td>\n",
       "      <td>KESAAAKFERQHMDSGNSPSSSSNYCNLMMCCRKMTQGKCKPVNTF...</td>\n",
       "      <td>248</td>\n",
       "      <td>Protein</td>\n",
       "      <td>HYDROLASE</td>\n",
       "      <td>X-RAY DIFFRACTION</td>\n",
       "      <td>Protein</td>\n",
       "      <td>248</td>\n",
       "      <td>2.06</td>\n",
       "      <td>28700.28</td>\n",
       "      <td>NaN</td>\n",
       "      <td>NaN</td>\n",
       "      <td>2.48</td>\n",
       "      <td>50.36</td>\n",
       "      <td>pH 4.8</td>\n",
       "      <td>4.8</td>\n",
       "      <td>1998.0</td>\n",
       "    </tr>\n",
       "    <tr>\n",
       "      <th>77</th>\n",
       "      <td>11BA</td>\n",
       "      <td>B</td>\n",
       "      <td>KESAAAKFERQHMDSGNSPSSSSNYCNLMMCCRKMTQGKCKPVNTF...</td>\n",
       "      <td>248</td>\n",
       "      <td>Protein</td>\n",
       "      <td>HYDROLASE</td>\n",
       "      <td>X-RAY DIFFRACTION</td>\n",
       "      <td>Protein</td>\n",
       "      <td>248</td>\n",
       "      <td>2.06</td>\n",
       "      <td>28700.28</td>\n",
       "      <td>NaN</td>\n",
       "      <td>NaN</td>\n",
       "      <td>2.48</td>\n",
       "      <td>50.36</td>\n",
       "      <td>pH 4.8</td>\n",
       "      <td>4.8</td>\n",
       "      <td>1998.0</td>\n",
       "    </tr>\n",
       "    <tr>\n",
       "      <th>78</th>\n",
       "      <td>11BG</td>\n",
       "      <td>A</td>\n",
       "      <td>KESAAAKFERQHMDSGNSPSSSSNYCNLMMCCRKMTQGKCKPVNTF...</td>\n",
       "      <td>248</td>\n",
       "      <td>Protein</td>\n",
       "      <td>HYDROLASE</td>\n",
       "      <td>X-RAY DIFFRACTION</td>\n",
       "      <td>Protein</td>\n",
       "      <td>248</td>\n",
       "      <td>1.90</td>\n",
       "      <td>30391.41</td>\n",
       "      <td>NaN</td>\n",
       "      <td>NaN</td>\n",
       "      <td>2.40</td>\n",
       "      <td>48.68</td>\n",
       "      <td>pH 4.8</td>\n",
       "      <td>4.8</td>\n",
       "      <td>1999.0</td>\n",
       "    </tr>\n",
       "  </tbody>\n",
       "</table>\n",
       "</div>"
      ],
      "text/plain": [
       "   structureId chainId                                           sequence  \\\n",
       "67        117E       A  TYTTRQIGAKNTLEYKVYIEKDGKPVSAFHDIPLYADKENNIFNMV...   \n",
       "68        117E       B  TYTTRQIGAKNTLEYKVYIEKDGKPVSAFHDIPLYADKENNIFNMV...   \n",
       "76        11BA       A  KESAAAKFERQHMDSGNSPSSSSNYCNLMMCCRKMTQGKCKPVNTF...   \n",
       "77        11BA       B  KESAAAKFERQHMDSGNSPSSSSNYCNLMMCCRKMTQGKCKPVNTF...   \n",
       "78        11BG       A  KESAAAKFERQHMDSGNSPSSSSNYCNLMMCCRKMTQGKCKPVNTF...   \n",
       "\n",
       "    residueCount_x macromoleculeType_x classification experimentalTechnique  \\\n",
       "67             572             Protein      HYDROLASE     X-RAY DIFFRACTION   \n",
       "68             572             Protein      HYDROLASE     X-RAY DIFFRACTION   \n",
       "76             248             Protein      HYDROLASE     X-RAY DIFFRACTION   \n",
       "77             248             Protein      HYDROLASE     X-RAY DIFFRACTION   \n",
       "78             248             Protein      HYDROLASE     X-RAY DIFFRACTION   \n",
       "\n",
       "   macromoleculeType_y  residueCount_y  resolution  structureMolecularWeight  \\\n",
       "67             Protein             572        2.15                  65203.21   \n",
       "68             Protein             572        2.15                  65203.21   \n",
       "76             Protein             248        2.06                  28700.28   \n",
       "77             Protein             248        2.06                  28700.28   \n",
       "78             Protein             248        1.90                  30391.41   \n",
       "\n",
       "   crystallizationMethod  crystallizationTempK  densityMatthews  \\\n",
       "67                   NaN                   NaN             2.71   \n",
       "68                   NaN                   NaN             2.71   \n",
       "76                   NaN                   NaN             2.48   \n",
       "77                   NaN                   NaN             2.48   \n",
       "78                   NaN                   NaN             2.40   \n",
       "\n",
       "    densityPercentSol                                        pdbxDetails  \\\n",
       "67              54.69  17-19% MPD, 25 MM MES, PH 6.0, 1 MM MNCL2, 0.5...   \n",
       "68              54.69  17-19% MPD, 25 MM MES, PH 6.0, 1 MM MNCL2, 0.5...   \n",
       "76              50.36                                             pH 4.8   \n",
       "77              50.36                                             pH 4.8   \n",
       "78              48.68                                             pH 4.8   \n",
       "\n",
       "    phValue  publicationYear  \n",
       "67      6.0           1998.0  \n",
       "68      6.0           1998.0  \n",
       "76      4.8           1998.0  \n",
       "77      4.8           1998.0  \n",
       "78      4.8           1999.0  "
      ]
     },
     "execution_count": 48,
     "metadata": {},
     "output_type": "execute_result"
    }
   ],
   "source": [
    "df_selected = df_total[df_total['classification'].isin(set(count.index))]\n",
    "df_selected = df_total[df_total['classification'].isin(set(count.index))]\n",
    "df_selected = df_selected[df_selected['macromoleculeType_x'].isin(set(['Protein']))]\n",
    "df_selected.head()"
   ]
  },
  {
   "cell_type": "markdown",
   "metadata": {},
   "source": [
    "## Pearson Correlation Matrix\n",
    "### We want to get a better understanding of the correlations between the physical attributes by building a Pearson Correlation Matrix. A value closer to 1 represents a higher correlation between the two factors, and further from 1 represents a lower correlation between the two factors.\n",
    "- Reduce the dataset to only numerical column and clssification column\n",
    "- We are only using the top 10 classification classes"
   ]
  },
  {
   "cell_type": "code",
   "execution_count": 49,
   "metadata": {},
   "outputs": [
    {
     "name": "stderr",
     "output_type": "stream",
     "text": [
      "C:\\Users\\liyij\\Anaconda3\\lib\\site-packages\\ipykernel_launcher.py:9: SettingWithCopyWarning: \n",
      "A value is trying to be set on a copy of a slice from a DataFrame\n",
      "\n",
      "See the caveats in the documentation: http://pandas.pydata.org/pandas-docs/stable/indexing.html#indexing-view-versus-copy\n",
      "  if __name__ == '__main__':\n"
     ]
    },
    {
     "data": {
      "text/html": [
       "<div>\n",
       "<style scoped>\n",
       "    .dataframe tbody tr th:only-of-type {\n",
       "        vertical-align: middle;\n",
       "    }\n",
       "\n",
       "    .dataframe tbody tr th {\n",
       "        vertical-align: top;\n",
       "    }\n",
       "\n",
       "    .dataframe thead th {\n",
       "        text-align: right;\n",
       "    }\n",
       "</style>\n",
       "<table border=\"1\" class=\"dataframe\">\n",
       "  <thead>\n",
       "    <tr style=\"text-align: right;\">\n",
       "      <th></th>\n",
       "      <th>residueCount_x</th>\n",
       "      <th>resolution</th>\n",
       "      <th>structureMolecularWeight</th>\n",
       "      <th>densityMatthews</th>\n",
       "      <th>densityPercentSol</th>\n",
       "      <th>publicationYear</th>\n",
       "      <th>class</th>\n",
       "    </tr>\n",
       "  </thead>\n",
       "  <tbody>\n",
       "    <tr>\n",
       "      <th>67</th>\n",
       "      <td>572</td>\n",
       "      <td>2.15</td>\n",
       "      <td>65203.21</td>\n",
       "      <td>2.71</td>\n",
       "      <td>54.69</td>\n",
       "      <td>1998.0</td>\n",
       "      <td>1</td>\n",
       "    </tr>\n",
       "    <tr>\n",
       "      <th>68</th>\n",
       "      <td>572</td>\n",
       "      <td>2.15</td>\n",
       "      <td>65203.21</td>\n",
       "      <td>2.71</td>\n",
       "      <td>54.69</td>\n",
       "      <td>1998.0</td>\n",
       "      <td>1</td>\n",
       "    </tr>\n",
       "    <tr>\n",
       "      <th>76</th>\n",
       "      <td>248</td>\n",
       "      <td>2.06</td>\n",
       "      <td>28700.28</td>\n",
       "      <td>2.48</td>\n",
       "      <td>50.36</td>\n",
       "      <td>1998.0</td>\n",
       "      <td>1</td>\n",
       "    </tr>\n",
       "    <tr>\n",
       "      <th>77</th>\n",
       "      <td>248</td>\n",
       "      <td>2.06</td>\n",
       "      <td>28700.28</td>\n",
       "      <td>2.48</td>\n",
       "      <td>50.36</td>\n",
       "      <td>1998.0</td>\n",
       "      <td>1</td>\n",
       "    </tr>\n",
       "    <tr>\n",
       "      <th>78</th>\n",
       "      <td>248</td>\n",
       "      <td>1.90</td>\n",
       "      <td>30391.41</td>\n",
       "      <td>2.40</td>\n",
       "      <td>48.68</td>\n",
       "      <td>1999.0</td>\n",
       "      <td>1</td>\n",
       "    </tr>\n",
       "  </tbody>\n",
       "</table>\n",
       "</div>"
      ],
      "text/plain": [
       "    residueCount_x  resolution  structureMolecularWeight  densityMatthews  \\\n",
       "67             572        2.15                  65203.21             2.71   \n",
       "68             572        2.15                  65203.21             2.71   \n",
       "76             248        2.06                  28700.28             2.48   \n",
       "77             248        2.06                  28700.28             2.48   \n",
       "78             248        1.90                  30391.41             2.40   \n",
       "\n",
       "    densityPercentSol  publicationYear  class  \n",
       "67              54.69           1998.0      1  \n",
       "68              54.69           1998.0      1  \n",
       "76              50.36           1998.0      1  \n",
       "77              50.36           1998.0      1  \n",
       "78              48.68           1999.0      1  "
      ]
     },
     "execution_count": 49,
     "metadata": {},
     "output_type": "execute_result"
    }
   ],
   "source": [
    "class_dict = {'HYDROLASE':1, 'TRANSFERASE':2, 'OXIDOREDUCTASE':3, 'IMMUNE SYSTEM':4, 'LYASE':5,\n",
    "              'HYDROLASE/HYDROLASE INHIBITOR':6, 'TRANSCRIPTION':7, 'VIRAL PROTEIN':8,\n",
    "              'TRANSPORT PROTEIN':9, 'VIRUS':10}\n",
    "df_selected['class'] = df_selected.classification.map(class_dict)\n",
    "columns = ['residueCount_x', 'resolution', 'structureMolecularWeight', 'densityMatthews',\n",
    "           'densityPercentSol', 'publicationYear', 'class']\n",
    "df_ml = df_selected[columns]\n",
    "# drop the nulls\n",
    "df_ml.dropna(inplace=True)\n",
    "df_ml.head()"
   ]
  },
  {
   "cell_type": "code",
   "execution_count": 50,
   "metadata": {},
   "outputs": [
    {
     "data": {
      "image/png": "[encoded data removed]",
      "text/plain": [
       "<Figure size 1296x504 with 2 Axes>"
      ]
     },
     "metadata": {
      "needs_background": "light"
     },
     "output_type": "display_data"
    }
   ],
   "source": [
    "from matplotlib import pyplot as plt\n",
    "import seaborn as sns\n",
    "colormap = plt.cm.RdBu\n",
    "f, ax = plt.subplots(figsize=(18,7))\n",
    "sns.heatmap(df_ml.corr(), cmap= colormap, annot=True, ax=ax, annot_kws ={'fontsize':12})\n",
    "kwargs = {'length':2.5, 'width':1, 'colors':'black', 'labelsize':11}\n",
    "ax.tick_params(**kwargs)\n",
    "ax.tick_params(**kwargs, axis='x')\n",
    "plt.title ('Pearson Correlation Matrix', color = 'black', fontsize=18)\n",
    "\n",
    "plt.show()"
   ]
  },
  {
   "cell_type": "code",
   "execution_count": 24,
   "metadata": {},
   "outputs": [
    {
     "name": "stderr",
     "output_type": "stream",
     "text": [
      "C:\\Users\\liyij\\Anaconda3\\lib\\site-packages\\sklearn\\preprocessing\\data.py:645: DataConversionWarning: Data with input dtype int64, float64 were all converted to float64 by StandardScaler.\n",
      "  return self.partial_fit(X, y)\n",
      "C:\\Users\\liyij\\Anaconda3\\lib\\site-packages\\sklearn\\base.py:464: DataConversionWarning: Data with input dtype int64, float64 were all converted to float64 by StandardScaler.\n",
      "  return self.fit(X, **fit_params).transform(X)\n",
      "C:\\Users\\liyij\\Anaconda3\\lib\\site-packages\\ipykernel_launcher.py:10: DataConversionWarning: Data with input dtype int64, float64 were all converted to float64 by StandardScaler.\n",
      "  # Remove the CWD from sys.path while we load stuff.\n"
     ]
    }
   ],
   "source": [
    "from sklearn.model_selection import train_test_split\n",
    "from sklearn.preprocessing import StandardScaler\n",
    "X = df_ml.drop('class',axis = 1)\n",
    "y = df_ml['class']\n",
    "X_train, X_test, y_train, y_test = train_test_split(X, y, test_size=0.20, random_state=42)\n",
    "\n",
    "# Standardizing the dataset\n",
    "sc = StandardScaler()\n",
    "X_train = sc.fit_transform(X_train)\n",
    "X_test = sc.transform(X_test)"
   ]
  },
  {
   "cell_type": "code",
   "execution_count": 25,
   "metadata": {},
   "outputs": [],
   "source": []
  },
  {
   "cell_type": "code",
   "execution_count": 26,
   "metadata": {},
   "outputs": [
    {
     "name": "stderr",
     "output_type": "stream",
     "text": [
      "C:\\Users\\liyij\\Anaconda3\\lib\\site-packages\\sklearn\\ensemble\\forest.py:246: FutureWarning: The default value of n_estimators will change from 10 in version 0.20 to 100 in 0.22.\n",
      "  \"10 in version 0.20 to 100 in 0.22.\", FutureWarning)\n"
     ]
    },
    {
     "data": {
      "image/png": "[encoded data removed]",
      "text/plain": [
       "<Figure size 720x576 with 1 Axes>"
      ]
     },
     "metadata": {
      "needs_background": "light"
     },
     "output_type": "display_data"
    }
   ],
   "source": []
  },
  {
   "cell_type": "code",
   "execution_count": null,
   "metadata": {},
   "outputs": [],
   "source": [
    "data = test_df\n",
    "#need to remove nulls\n",
    "data = data.dropna()\n",
    "print(data.shape)\n",
    "print(data.head())\n",
    "X_train, X_test,y_train,y_test = \\\n",
    "train_test_split(data['resolution'], data['classification'], test_size = 0.2, random_state = 1)"
   ]
  },
  {
   "cell_type": "code",
   "execution_count": null,
   "metadata": {},
   "outputs": [],
   "source": []
  },
  {
   "cell_type": "code",
   "execution_count": null,
   "metadata": {},
   "outputs": [],
   "source": [
    "#vectorize data, prepare for building models\n",
    "#Convert a collection of text documents to a matrix of token counts\n",
    "#seems has nothing to do with sequence but only with the frequency\n",
    "\n",
    "#ngram is a parameter we need to focus on, \n",
    "\n",
    "#vect = CountVectorizer(analyzer = 'char_wb', ngram_range = (3,3))\n",
    "vect = CountVectorizer(analyzer = 'char_wb')\n",
    "\n",
    "# Fit and Transform CountVectorizer\n",
    "#occasionally may meet np.nan error\n",
    "vect.fit(X_train)\n",
    "X_train_df = vect.transform(X_train)\n",
    "X_test_df = vect.transform(X_test)\n",
    "\n",
    "#to store the results for different mothods\n",
    "prediction = dict()"
   ]
  },
  {
   "cell_type": "code",
   "execution_count": null,
   "metadata": {},
   "outputs": [],
   "source": [
    "model = ExtraTreesClassifier()\n",
    "model.fit(X_train_df,y_train)"
   ]
  },
  {
   "cell_type": "code",
   "execution_count": null,
   "metadata": {},
   "outputs": [],
   "source": [
    "X = data.iloc[:,1:4]  #independent columns\n",
    "y = data.iloc[:,0]    #target column i.e price range\n",
    "from sklearn.ensemble import ExtraTreesClassifier\n",
    "import matplotlib.pyplot as plt\n",
    "model = ExtraTreesClassifier()\n",
    "model.fit(X,y)\n",
    "print(model.feature_importances_) #use inbuilt class feature_importances of tree based classifiers\n",
    "#plot graph of feature importances for better visualization\n",
    "feat_importances = pd.Series(model.feature_importances_, index=X.columns)\n",
    "feat_importances.nlargest(3).plot(kind='barh')\n",
    "plt.show()"
   ]
  },
  {
   "cell_type": "code",
   "execution_count": null,
   "metadata": {},
   "outputs": [],
   "source": []
  }
 ],
 "metadata": {
  "kernelspec": {
   "display_name": "Python 3",
   "language": "python",
   "name": "python3"
  },
  "language_info": {
   "codemirror_mode": {
    "name": "ipython",
    "version": 3
   },
   "file_extension": ".py",
   "mimetype": "text/x-python",
   "name": "python",
   "nbconvert_exporter": "python",
   "pygments_lexer": "ipython3",
   "version": "3.7.3"
  }
 },
 "nbformat": 4,
 "nbformat_minor": 2
}
