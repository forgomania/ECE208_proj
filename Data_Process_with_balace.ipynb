{
 "cells": [
  {
   "cell_type": "code",
   "execution_count": 5,
   "metadata": {},
   "outputs": [],
   "source": [
    "import pandas as pd"
   ]
  },
  {
   "cell_type": "markdown",
   "metadata": {},
   "source": [
    "## Data Preparation"
   ]
  },
  {
   "cell_type": "code",
   "execution_count": 6,
   "metadata": {},
   "outputs": [],
   "source": [
    "#load data\n",
    "df_seq=pd.read_csv('pdb_data_seq.csv')\n",
    "df_properties=pd.read_csv('pdb_data_no_dups.csv')\n",
    "df_total=df_seq.merge(df_properties,left_on='structureId',right_on = 'structureId')\n"
   ]
  },
  {
   "cell_type": "code",
   "execution_count": 7,
   "metadata": {
    "scrolled": false
   },
   "outputs": [
    {
     "data": {
      "text/plain": [
       "Index(['structureId', 'chainId', 'sequence', 'residueCount_x',\n",
       "       'macromoleculeType_x', 'classification', 'experimentalTechnique',\n",
       "       'macromoleculeType_y', 'residueCount_y', 'resolution',\n",
       "       'structureMolecularWeight', 'crystallizationMethod',\n",
       "       'crystallizationTempK', 'densityMatthews', 'densityPercentSol',\n",
       "       'pdbxDetails', 'phValue', 'publicationYear'],\n",
       "      dtype='object')"
      ]
     },
     "execution_count": 7,
     "metadata": {},
     "output_type": "execute_result"
    }
   ],
   "source": [
    "df_total.columns"
   ]
  },
  {
   "cell_type": "markdown",
   "metadata": {},
   "source": [
    "#### Select only protein, and filtered by top N"
   ]
  },
  {
   "cell_type": "code",
   "execution_count": 8,
   "metadata": {},
   "outputs": [],
   "source": [
    "#select the data in top n by count, top 10?\n",
    "df_total=df_total[df_total['macromoleculeType_x'].isin(set(['Protein']))]\n",
    "\n",
    "count = df_total['classification'].value_counts(dropna=False)[:10]\n",
    "df_selected=df_total[df_total['classification'].isin(set(count.index))]\n",
    "#we want only protein\n",
    "#count = df_selected['classification'].value_counts(dropna=True)[:10]"
   ]
  },
  {
   "cell_type": "code",
   "execution_count": 46,
   "metadata": {},
   "outputs": [
    {
     "data": {
      "text/plain": [
       "HYDROLASE                        46336\n",
       "TRANSFERASE                      36424\n",
       "OXIDOREDUCTASE                   34322\n",
       "IMMUNE SYSTEM                    15615\n",
       "LYASE                            11682\n",
       "HYDROLASE/HYDROLASE INHIBITOR    11218\n",
       "TRANSCRIPTION                     8919\n",
       "VIRAL PROTEIN                     8495\n",
       "TRANSPORT PROTEIN                 8371\n",
       "VIRUS                             6972\n",
       "Name: classification, dtype: int64"
      ]
     },
     "execution_count": 46,
     "metadata": {},
     "output_type": "execute_result"
    }
   ],
   "source": [
    "count"
   ]
  },
  {
   "cell_type": "markdown",
   "metadata": {},
   "source": [
    "#### Select proteins with only one chain"
   ]
  },
  {
   "cell_type": "code",
   "execution_count": 9,
   "metadata": {},
   "outputs": [],
   "source": [
    "#select proteins with only one chain in the data set\n",
    "#how to justify this operation?\n",
    "#df_onechain = df_selected[df_selected.groupby('structureId').structureId.transform(len) == 1]"
   ]
  },
  {
   "cell_type": "code",
   "execution_count": 9,
   "metadata": {},
   "outputs": [],
   "source": [
    "test_df = df_selected[['structureId','classification','sequence']]\n",
    "#test_df = df_onechain[['structureId','classification','sequence']]"
   ]
  },
  {
   "cell_type": "markdown",
   "metadata": {},
   "source": [
    "Things to be done"
   ]
  },
  {
   "cell_type": "markdown",
   "metadata": {},
   "source": [
    "Further select data and simplify problem, select proteins with only one chain?\n",
    "\n",
    "\n",
    "Figure out how to convert sequence data into array and training model afterwards. (22 - n -n)\n",
    "\n",
    "\n",
    "More models and discussion (*LSTM)\n",
    "\n",
    "Models build on features other than sequence.\n",
    "\n"
   ]
  },
  {
   "cell_type": "markdown",
   "metadata": {},
   "source": [
    "## Data balancing"
   ]
  },
  {
   "cell_type": "code",
   "execution_count": 10,
   "metadata": {},
   "outputs": [],
   "source": [
    "from sklearn.utils import resample\n",
    "#upsample the minorities and then take 50000 sample from all\n",
    "\n",
    "df_majority = test_df[test_df['classification']=='HYDROLASE']\n",
    "df_minority = test_df[test_df['classification']=='HYDROLASE']\n",
    " \n",
    "# Upsample minority class\n",
    "df_minority_upsampled = resample(df_minority, \n",
    "                                 replace=True,     # sample with replacement\n",
    "                                 n_samples=46336,    # to match majority class\n",
    "                                 random_state=123) # reproducible results\n",
    "keylist = list(count.index)\n",
    "datalist = [0]*9\n",
    "for i in range(1,10):\n",
    "    df_minority = test_df[test_df['classification']==keylist[i]]\n",
    "    datalist[i-1] = resample(df_minority, \n",
    "                                 replace=True,     # sample with replacement\n",
    "                                 n_samples=46336,    # to match majority class\n",
    "                                 random_state=123) # reproducible results\n",
    "    #print(len(df_majority))\n",
    "    df_majority = pd.concat([df_majority, datalist[i-1]])\n",
    "data = df_majority.sample(50000)\n",
    "    "
   ]
  },
  {
   "cell_type": "markdown",
   "metadata": {},
   "source": [
    "## Model Training"
   ]
  },
  {
   "cell_type": "code",
   "execution_count": 11,
   "metadata": {},
   "outputs": [],
   "source": [
    "from sklearn.model_selection import train_test_split\n",
    "from sklearn.feature_extraction.text import CountVectorizer\n",
    "from sklearn.metrics import accuracy_score, confusion_matrix, classification_report\n",
    "from sklearn.naive_bayes import MultinomialNB\n",
    "from sklearn.ensemble import RandomForestClassifier,AdaBoostClassifier,GradientBoostingClassifier,ExtraTreesClassifier"
   ]
  },
  {
   "cell_type": "code",
   "execution_count": 19,
   "metadata": {},
   "outputs": [],
   "source": [
    "#optional, take part of the data for faster verification\n",
    "#data = test_df#.sample(50000)\n",
    "\n",
    "#need to remove nulls\n",
    "data = data.dropna()\n",
    "X_train, X_test,y_train,y_test = \\\n",
    "train_test_split(data['sequence'], data['classification'], test_size = 0.1, random_state = 1)"
   ]
  },
  {
   "cell_type": "code",
   "execution_count": 20,
   "metadata": {
    "scrolled": true
   },
   "outputs": [],
   "source": [
    "test_count = data['classification'].value_counts(dropna=False)[:10]"
   ]
  },
  {
   "cell_type": "code",
   "execution_count": 31,
   "metadata": {},
   "outputs": [
    {
     "data": {
      "text/plain": [
       "array(['HYDROLASE', 'VIRUS', 'HYDROLASE/HYDROLASE INHIBITOR',\n",
       "       'IMMUNE SYSTEM', 'LYASE', 'OXIDOREDUCTASE', 'TRANSPORT PROTEIN',\n",
       "       'TRANSCRIPTION', 'TRANSFERASE', 'VIRAL PROTEIN'], dtype=object)"
      ]
     },
     "execution_count": 31,
     "metadata": {},
     "output_type": "execute_result"
    }
   ],
   "source": [
    "np.asarray(test_count.index)"
   ]
  },
  {
   "cell_type": "markdown",
   "metadata": {},
   "source": [
    "#### Feature Extraction From Sequence Data"
   ]
  },
  {
   "cell_type": "code",
   "execution_count": null,
   "metadata": {},
   "outputs": [],
   "source": [
    "\"\"\"\n",
    "#vectorize data, prepare for building models\n",
    "#Convert a collection of text documents to a matrix of token counts\n",
    "#seems has nothing to do with sequence but only with the frequency\n",
    "\n",
    "#ngram is a parameter we need to focus on, \n",
    "\n",
    "vect = CountVectorizer(analyzer = 'char_wb', ngram_range = (1,1))\n",
    "#vect = CountVectorizer(analyzer = 'char_wb')\n",
    "\n",
    "# Fit and Transform CountVectorizer\n",
    "#occasionally may meet np.nan error\n",
    "vect.fit(X_train)\n",
    "X_train_df = vect.transform(X_train)\n",
    "X_test_df = vect.transform(X_test)\n",
    "\n",
    "#to store the results for different mothods\n",
    "prediction = dict()\n",
    "\"\"\""
   ]
  },
  {
   "cell_type": "markdown",
   "metadata": {},
   "source": [
    "Iterate through models"
   ]
  },
  {
   "cell_type": "code",
   "execution_count": 25,
   "metadata": {},
   "outputs": [],
   "source": [
    "import numpy as np\n",
    "import json\n",
    "from sklearn.model_selection import train_test_split\n",
    "from sklearn.feature_extraction.text import CountVectorizer\n",
    "from sklearn.metrics import accuracy_score, confusion_matrix, classification_report\n",
    "\n",
    "from sklearn.naive_bayes import MultinomialNB\n",
    "from sklearn.ensemble import RandomForestClassifier,AdaBoostClassifier,GradientBoostingClassifier,ExtraTreesClassifier\n",
    "from sklearn.tree import DecisionTreeClassifier\n",
    "from sklearn.linear_model import LogisticRegression\n",
    "from sklearn.metrics import confusion_matrix, classification_report,accuracy_score,recall_score\n",
    "from sklearn.svm import SVC\n",
    "from sklearn.neighbors import KNeighborsClassifier\n",
    "from sklearn.discriminant_analysis import LinearDiscriminantAnalysis\n",
    "from sklearn.model_selection import GridSearchCV, cross_val_score, StratifiedKFold, learning_curve\n",
    "from sklearn.neural_network import MLPClassifier\n",
    "import time"
   ]
  },
  {
   "cell_type": "code",
   "execution_count": 23,
   "metadata": {},
   "outputs": [],
   "source": [
    "models = [MultinomialNB(),AdaBoostClassifier(),RandomForestClassifier(),KNeighborsClassifier(),DecisionTreeClassifier(),ExtraTreesClassifier(),SVC()]\n",
    "\n",
    "model_names=['NB','adaboost','randomForest','Kneighbors','DecisionTree','ExtraTree','SVM']\n",
    "extra_models = dict(zip(model_names,models))"
   ]
  },
  {
   "cell_type": "code",
   "execution_count": 29,
   "metadata": {},
   "outputs": [
    {
     "data": {
      "text/plain": [
       "HYDROLASE                        46336\n",
       "TRANSFERASE                      36424\n",
       "OXIDOREDUCTASE                   34322\n",
       "IMMUNE SYSTEM                    15615\n",
       "LYASE                            11682\n",
       "HYDROLASE/HYDROLASE INHIBITOR    11218\n",
       "TRANSCRIPTION                     8919\n",
       "VIRAL PROTEIN                     8495\n",
       "TRANSPORT PROTEIN                 8371\n",
       "VIRUS                             6972\n",
       "Name: classification, dtype: int64"
      ]
     },
     "execution_count": 29,
     "metadata": {},
     "output_type": "execute_result"
    }
   ],
   "source": [
    "count"
   ]
  },
  {
   "cell_type": "code",
   "execution_count": null,
   "metadata": {
    "scrolled": true
   },
   "outputs": [
    {
     "name": "stderr",
     "output_type": "stream",
     "text": [
      "\n",
      "\n",
      "\n",
      "\n",
      "\n",
      "  0%|                                                                                            | 0/5 [00:00<?, ?it/s]"
     ]
    },
    {
     "name": "stdout",
     "output_type": "stream",
     "text": [
      "time elapsed: 6.282205581665039\n",
      "1 NB 0.3702\n",
      "time elapsed: 11.75955581665039\n",
      "1 adaboost 0.3824\n",
      "time elapsed: 16.93671202659607\n",
      "1 randomForest 0.8884\n",
      "time elapsed: 28.89974856376648\n",
      "1 Kneighbors 0.8074\n",
      "time elapsed: 31.874820232391357\n",
      "1 DecisionTree 0.8656\n",
      "time elapsed: 38.63072609901428\n",
      "1 ExtraTree 0.883\n"
     ]
    },
    {
     "name": "stderr",
     "output_type": "stream",
     "text": [
      "D:\\Users\\ericl\\Anaconda3\\lib\\site-packages\\sklearn\\svm\\base.py:193: FutureWarning: The default value of gamma will change from 'auto' to 'scale' in version 0.22 to account better for unscaled features. Set gamma explicitly to 'auto' or 'scale' to avoid this warning.\n",
      "  \"avoid this warning.\", FutureWarning)\n"
     ]
    },
    {
     "name": "stdout",
     "output_type": "stream",
     "text": [
      "time elapsed: 164.06582617759705\n",
      "1 SVM 0.8572\n"
     ]
    },
    {
     "name": "stderr",
     "output_type": "stream",
     "text": [
      "\n",
      "\n",
      "\n",
      "\n",
      "\n",
      " 20%|████████████████▌                                                                  | 1/5 [02:44<10:56, 164.07s/it]"
     ]
    },
    {
     "name": "stdout",
     "output_type": "stream",
     "text": [
      "time elapsed: 174.71338176727295\n",
      "2 NB 0.4758\n",
      "time elapsed: 191.8634898662567\n",
      "2 adaboost 0.3672\n",
      "time elapsed: 215.21606874465942\n",
      "2 randomForest 0.8748\n",
      "time elapsed: 252.87243175506592\n",
      "2 Kneighbors 0.805\n",
      "time elapsed: 290.78999495506287\n",
      "2 DecisionTree 0.8586\n",
      "time elapsed: 321.80706000328064\n",
      "2 ExtraTree 0.8768\n"
     ]
    },
    {
     "name": "stderr",
     "output_type": "stream",
     "text": [
      "D:\\Users\\ericl\\Anaconda3\\lib\\site-packages\\sklearn\\svm\\base.py:193: FutureWarning: The default value of gamma will change from 'auto' to 'scale' in version 0.22 to account better for unscaled features. Set gamma explicitly to 'auto' or 'scale' to avoid this warning.\n",
      "  \"avoid this warning.\", FutureWarning)\n"
     ]
    },
    {
     "name": "stdout",
     "output_type": "stream",
     "text": [
      "time elapsed: 1618.5239880084991\n",
      "2 SVM 0.8294\n"
     ]
    },
    {
     "name": "stderr",
     "output_type": "stream",
     "text": [
      "\n",
      "\n",
      "\n",
      "\n",
      "\n",
      " 40%|█████████████████████████████████▏                                                 | 2/5 [26:58<27:33, 551.19s/it]"
     ]
    },
    {
     "name": "stdout",
     "output_type": "stream",
     "text": [
      "time elapsed: 1631.9959318637848\n",
      "3 NB 0.6548\n",
      "time elapsed: 1659.830552816391\n",
      "3 adaboost 0.3342\n",
      "time elapsed: 1710.1370558738708\n",
      "3 randomForest 0.8766\n",
      "time elapsed: 1729.1023654937744\n",
      "3 Kneighbors 0.742\n",
      "time elapsed: 1836.4708368778229\n",
      "3 DecisionTree 0.8656\n",
      "time elapsed: 1899.9940252304077\n",
      "3 ExtraTree 0.8814\n"
     ]
    },
    {
     "name": "stderr",
     "output_type": "stream",
     "text": [
      "D:\\Users\\ericl\\Anaconda3\\lib\\site-packages\\sklearn\\svm\\base.py:193: FutureWarning: The default value of gamma will change from 'auto' to 'scale' in version 0.22 to account better for unscaled features. Set gamma explicitly to 'auto' or 'scale' to avoid this warning.\n",
      "  \"avoid this warning.\", FutureWarning)\n"
     ]
    }
   ],
   "source": [
    "precisions={}\n",
    "recalls={}\n",
    "confusion_matrixs={}\n",
    "types  = np.asarray(test_count.index)\n",
    "score_table = {}\n",
    "from tqdm import tqdm\n",
    "init_time = time.time()\n",
    "for i in tqdm(range(1,6)):\n",
    "    #featrue extraction by count vectorization\n",
    "    vect = CountVectorizer(analyzer = 'char_wb', ngram_range = (i,i))\n",
    "    vect.fit(X_train)\n",
    "    X_train_df = vect.transform(X_train)\n",
    "    X_test_df = vect.transform(X_test)\n",
    "    for key in extra_models.keys():\n",
    "        model = extra_models[key]\n",
    "        model.fit(X_train_df,y_train)\n",
    "        ADA_pred = model.predict(X_test_df)\n",
    "        if key not in precisions:\n",
    "            precisions[key] = [accuracy_score(ADA_pred , y_test)]\n",
    "            #recalls[key] = [recall_score(ADA_pred , y_test)]\n",
    "            confusion_matrixs[key] = [confusion_matrix(ADA_pred, y_test, labels = types)]\n",
    "            score_table[key] = [classification_report(ADA_pred,y_test, labels = types)]\n",
    "        else:\n",
    "            precisions[key].append(accuracy_score(ADA_pred , y_test))  \n",
    "            #recalls[key].append(recall_score(ADA_pred, y_test))\n",
    "            confusion_matrixs[key].append(confusion_matrix(ADA_pred,y_test, labels = types))\n",
    "            score_table[key].append( classification_report(ADA_pred,y_test, labels = types))\n",
    "        print('time elapsed:',time.time()-init_time)\n",
    "        print(i,key,accuracy_score(ADA_pred , y_test))"
   ]
  }
 ],
 "metadata": {
  "kernelspec": {
   "display_name": "Python 3",
   "language": "python",
   "name": "python3"
  },
  "language_info": {
   "codemirror_mode": {
    "name": "ipython",
    "version": 3
   },
   "file_extension": ".py",
   "mimetype": "text/x-python",
   "name": "python",
   "nbconvert_exporter": "python",
   "pygments_lexer": "ipython3",
   "version": "3.6.5"
  }
 },
 "nbformat": 4,
 "nbformat_minor": 2
}
