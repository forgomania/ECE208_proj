{
 "cells": [
  {
   "cell_type": "code",
   "execution_count": 1,
   "metadata": {},
   "outputs": [],
   "source": [
    "import pandas as pd\n",
    "import numpy as np\n"
   ]
  },
  {
   "cell_type": "markdown",
   "metadata": {},
   "source": [
    "## Data Preparation"
   ]
  },
  {
   "cell_type": "code",
   "execution_count": 2,
   "metadata": {},
   "outputs": [],
   "source": [
    "#load data\n",
    "#first time user need to unzip the zip files to get csv files\n",
    "df_seq=pd.read_csv('pdb_data_seq.csv')\n",
    "df_properties=pd.read_csv('pdb_data_no_dups.csv')\n",
    "df_total=df_seq.merge(df_properties,left_on='structureId',right_on = 'structureId')\n"
   ]
  },
  {
   "cell_type": "markdown",
   "metadata": {},
   "source": [
    "#### Select only protein, and filtered by top N"
   ]
  },
  {
   "cell_type": "code",
   "execution_count": 4,
   "metadata": {},
   "outputs": [],
   "source": [
    "#select the data in top n by count, top 10?\n",
    "df_total=df_total[df_total['macromoleculeType_x'].isin(set(['Protein']))]\n",
    "count = df_total['classification'].value_counts(dropna=False)[:10]\n",
    "df_selected=df_total[df_total['classification'].isin(set(count.index))]\n",
    "#we want only protein\n",
    "#count = df_selected['classification'].value_counts(dropna=True)[:10]"
   ]
  },
  {
   "cell_type": "markdown",
   "metadata": {},
   "source": [
    "#### Select proteins with only one chain"
   ]
  },
  {
   "cell_type": "code",
   "execution_count": 1,
   "metadata": {},
   "outputs": [],
   "source": [
    "#select proteins with only one chain in the data set\n",
    "#how to justify this operation?\n",
    "#df_onechain = df_selected[df_selected.groupby('structureId').structureId.transform(len) == 1]"
   ]
  },
  {
   "cell_type": "code",
   "execution_count": 7,
   "metadata": {},
   "outputs": [],
   "source": [
    "test_df = df_selected[['structureId','classification','sequence']]\n",
    "#test_df = df_onechain[['structureId','classification','sequence']]"
   ]
  },
  {
   "cell_type": "markdown",
   "metadata": {},
   "source": [
    "## Data balancing"
   ]
  },
  {
   "cell_type": "code",
   "execution_count": 8,
   "metadata": {},
   "outputs": [],
   "source": [
    "from sklearn.utils import resample\n",
    "#upsample the minorities and then take 50000 sample from all\n",
    "\n",
    "df_majority = test_df[test_df['classification']=='HYDROLASE']\n",
    "df_minority = test_df[test_df['classification']=='HYDROLASE']\n",
    " \n",
    "# Upsample minority class\n",
    "df_minority_upsampled = resample(df_minority, \n",
    "                                 replace=True,     # sample with replacement\n",
    "                                 n_samples=46336,    # to match majority class\n",
    "                                 random_state=123) # reproducible results\n",
    "keylist = list(count.index)\n",
    "datalist = [0]*9\n",
    "for i in range(1,10):\n",
    "    df_minority = test_df[test_df['classification']==keylist[i]]\n",
    "    datalist[i-1] = resample(df_minority, \n",
    "                                 replace=True,     # sample with replacement\n",
    "                                 n_samples=46336,    # to match majority class\n",
    "                                 random_state=123) # reproducible results\n",
    "    #print(len(df_majority))\n",
    "    df_majority = pd.concat([df_majority, datalist[i-1]])\n",
    "data = df_majority.sample(50000)\n",
    "    "
   ]
  },
  {
   "cell_type": "markdown",
   "metadata": {},
   "source": [
    "## Model Training"
   ]
  },
  {
   "cell_type": "code",
   "execution_count": 9,
   "metadata": {},
   "outputs": [],
   "source": [
    "from sklearn.model_selection import train_test_split\n",
    "from sklearn.feature_extraction.text import CountVectorizer\n",
    "from sklearn.metrics import accuracy_score, confusion_matrix, classification_report\n",
    "from sklearn.naive_bayes import MultinomialNB\n",
    "from sklearn.ensemble import RandomForestClassifier,AdaBoostClassifier,GradientBoostingClassifier,ExtraTreesClassifier\n",
    "from sklearn.model_selection import train_test_split\n",
    "from sklearn.feature_extraction.text import CountVectorizer\n",
    "from sklearn.metrics import accuracy_score, confusion_matrix, classification_report\n",
    "\n",
    "from sklearn.naive_bayes import MultinomialNB\n",
    "from sklearn.ensemble import RandomForestClassifier,AdaBoostClassifier,GradientBoostingClassifier,ExtraTreesClassifier\n",
    "from sklearn.tree import DecisionTreeClassifier\n",
    "from sklearn.linear_model import LogisticRegression\n",
    "from sklearn.metrics import confusion_matrix, classification_report,accuracy_score,recall_score\n",
    "from sklearn.svm import SVC\n",
    "from sklearn.neighbors import KNeighborsClassifier\n",
    "from sklearn.discriminant_analysis import LinearDiscriminantAnalysis\n",
    "from sklearn.model_selection import GridSearchCV, cross_val_score, StratifiedKFold, learning_curve\n",
    "from sklearn.neural_network import MLPClassifier\n",
    "import time\n",
    "import json\n",
    "import matplotlib.pyplot as plt"
   ]
  },
  {
   "cell_type": "code",
   "execution_count": 10,
   "metadata": {},
   "outputs": [],
   "source": [
    "#optional, take part of the data for faster verification\n",
    "#data = test_df#.sample(50000)\n",
    "\n",
    "#need to remove nulls\n",
    "data = data.dropna()\n",
    "X_train, X_test,y_train,y_test = \\\n",
    "train_test_split(data['sequence'], data['classification'], test_size = 0.1, random_state = 1)"
   ]
  },
  {
   "cell_type": "code",
   "execution_count": 11,
   "metadata": {
    "scrolled": true
   },
   "outputs": [],
   "source": [
    "test_count = data['classification'].value_counts(dropna=False)[:10]"
   ]
  },
  {
   "cell_type": "markdown",
   "metadata": {},
   "source": [
    "### Train each model based on sequence"
   ]
  },
  {
   "cell_type": "code",
   "execution_count": 15,
   "metadata": {},
   "outputs": [],
   "source": [
    "models = [MultinomialNB(),AdaBoostClassifier(),RandomForestClassifier(),KNeighborsClassifier(),DecisionTreeClassifier(),ExtraTreesClassifier()]\n",
    "\n",
    "model_names=['NB','adaboost','randomForest','Kneighbors','DecisionTree','ExtraTree']\n",
    "extra_models = dict(zip(model_names,models))"
   ]
  },
  {
   "cell_type": "code",
   "execution_count": 17,
   "metadata": {
    "scrolled": false
   },
   "outputs": [
    {
     "name": "stderr",
     "output_type": "stream",
     "text": [
      "\r",
      "  0%|                                                                                            | 0/5 [00:00<?, ?it/s]"
     ]
    },
    {
     "name": "stdout",
     "output_type": "stream",
     "text": [
      "time elapsed: 6.313120126724243\n",
      "1 NB 0.3658\n",
      "time elapsed: 11.458333015441895\n",
      "1 adaboost 0.3924\n"
     ]
    },
    {
     "name": "stderr",
     "output_type": "stream",
     "text": [
      "D:\\Users\\ericl\\Anaconda3\\lib\\site-packages\\sklearn\\ensemble\\forest.py:245: FutureWarning: The default value of n_estimators will change from 10 in version 0.20 to 100 in 0.22.\n",
      "  \"10 in version 0.20 to 100 in 0.22.\", FutureWarning)\n"
     ]
    },
    {
     "name": "stdout",
     "output_type": "stream",
     "text": [
      "time elapsed: 16.65446448326111\n",
      "1 randomForest 0.8854\n",
      "time elapsed: 28.524717807769775\n",
      "1 Kneighbors 0.81\n",
      "time elapsed: 31.427981853485107\n",
      "1 DecisionTree 0.8648\n"
     ]
    },
    {
     "name": "stderr",
     "output_type": "stream",
     "text": [
      "D:\\Users\\ericl\\Anaconda3\\lib\\site-packages\\sklearn\\ensemble\\forest.py:245: FutureWarning: The default value of n_estimators will change from 10 in version 0.20 to 100 in 0.22.\n",
      "  \"10 in version 0.20 to 100 in 0.22.\", FutureWarning)\n"
     ]
    },
    {
     "name": "stdout",
     "output_type": "stream",
     "text": [
      "time elapsed: 38.38540840148926\n",
      "1 ExtraTree 0.8888\n"
     ]
    },
    {
     "name": "stderr",
     "output_type": "stream",
     "text": [
      "\r",
      " 20%|████████████████▊                                                                   | 1/5 [00:38<02:33, 38.39s/it]"
     ]
    },
    {
     "name": "stdout",
     "output_type": "stream",
     "text": [
      "time elapsed: 49.086987257003784\n",
      "2 NB 0.4836\n",
      "time elapsed: 65.35645484924316\n",
      "2 adaboost 0.3696\n",
      "time elapsed: 87.70967698097229\n",
      "2 randomForest 0.8874\n",
      "time elapsed: 125.45630884170532\n",
      "2 Kneighbors 0.8078\n",
      "time elapsed: 161.67548298835754\n",
      "2 DecisionTree 0.8676\n",
      "time elapsed: 191.01701855659485\n",
      "2 ExtraTree 0.883\n"
     ]
    },
    {
     "name": "stderr",
     "output_type": "stream",
     "text": [
      "\r",
      " 40%|█████████████████████████████████▌                                                  | 2/5 [03:11<03:37, 72.66s/it]"
     ]
    },
    {
     "name": "stdout",
     "output_type": "stream",
     "text": [
      "time elapsed: 204.50295877456665\n",
      "3 NB 0.649\n",
      "time elapsed: 231.9635202884674\n",
      "3 adaboost 0.3288\n",
      "time elapsed: 281.07219314575195\n",
      "3 randomForest 0.8836\n",
      "time elapsed: 300.04744935035706\n",
      "3 Kneighbors 0.7464\n",
      "time elapsed: 405.6808133125305\n",
      "3 DecisionTree 0.869\n",
      "time elapsed: 467.06266379356384\n",
      "3 ExtraTree 0.8834\n"
     ]
    },
    {
     "name": "stderr",
     "output_type": "stream",
     "text": [
      "\r",
      " 60%|█████████████████████████████████████████████████▊                                 | 3/5 [07:47<04:27, 133.68s/it]"
     ]
    },
    {
     "name": "stdout",
     "output_type": "stream",
     "text": [
      "time elapsed: 483.68521213531494\n",
      "4 NB 0.8334\n",
      "time elapsed: 520.5418469905853\n",
      "4 adaboost 0.3586\n",
      "time elapsed: 654.9119713306427\n",
      "4 randomForest 0.887\n",
      "time elapsed: 663.5891852378845\n",
      "4 Kneighbors 0.741\n",
      "time elapsed: 833.1572961807251\n",
      "4 DecisionTree 0.8726\n",
      "time elapsed: 1007.2229106426239\n",
      "4 ExtraTree 0.8962\n"
     ]
    },
    {
     "name": "stderr",
     "output_type": "stream",
     "text": [
      "\r",
      " 80%|██████████████████████████████████████████████████████████████████▍                | 4/5 [16:47<04:15, 255.62s/it]"
     ]
    },
    {
     "name": "stdout",
     "output_type": "stream",
     "text": [
      "time elapsed: 1033.8369362354279\n",
      "5 NB 0.892\n"
     ]
    },
    {
     "name": "stderr",
     "output_type": "stream",
     "text": [
      "D:\\Users\\ericl\\Anaconda3\\lib\\site-packages\\sklearn\\metrics\\classification.py:1439: UndefinedMetricWarning: Recall and F-score are ill-defined and being set to 0.0 in labels with no true samples.\n",
      "  'recall', 'true', average, warn_for)\n"
     ]
    },
    {
     "name": "stdout",
     "output_type": "stream",
     "text": [
      "time elapsed: 1116.0102186203003\n",
      "5 adaboost 0.35\n",
      "time elapsed: 1735.4847722053528\n",
      "5 randomForest 0.8876\n",
      "time elapsed: 1742.2905447483063\n",
      "5 Kneighbors 0.7348\n",
      "time elapsed: 2697.8521745204926\n",
      "5 DecisionTree 0.8834\n",
      "time elapsed: 3628.7928302288055\n",
      "5 ExtraTree 0.896\n"
     ]
    },
    {
     "name": "stderr",
     "output_type": "stream",
     "text": [
      "100%|█████████████████████████████████████████████████████████████████████████████████| 5/5 [1:00:28<00:00, 965.41s/it]\n"
     ]
    }
   ],
   "source": [
    "precisions={}\n",
    "recalls={}\n",
    "confusion_matrixs={}\n",
    "types  = np.asarray(test_count.index)\n",
    "score_table = {}\n",
    "from tqdm import tqdm\n",
    "init_time = time.time()\n",
    "for i in tqdm(range(1,6)):\n",
    "    #featrue extraction by count vectorization\n",
    "    vect = CountVectorizer(analyzer = 'char_wb', ngram_range = (i,i))\n",
    "    vect.fit(X_train)\n",
    "    X_train_df = vect.transform(X_train)\n",
    "    X_test_df = vect.transform(X_test)\n",
    "    for key in extra_models.keys():\n",
    "        model = extra_models[key]\n",
    "        model.fit(X_train_df,y_train)\n",
    "        ADA_pred = model.predict(X_test_df)\n",
    "        if key not in precisions:\n",
    "            precisions[key] = [accuracy_score(ADA_pred , y_test)]\n",
    "            #recalls[key] = [recall_score(ADA_pred , y_test)]\n",
    "            confusion_matrixs[key] = [confusion_matrix(ADA_pred, y_test, labels = types)]\n",
    "            score_table[key] = [classification_report(ADA_pred,y_test, labels = types)]\n",
    "        else:\n",
    "            precisions[key].append(accuracy_score(ADA_pred , y_test))  \n",
    "            #recalls[key].append(recall_score(ADA_pred, y_test))\n",
    "            confusion_matrixs[key].append(confusion_matrix(ADA_pred,y_test, labels = types))\n",
    "            score_table[key].append( classification_report(ADA_pred,y_test, labels = types))\n",
    "        print('time elapsed:',time.time()-init_time)\n",
    "        print(i,key,accuracy_score(ADA_pred , y_test))"
   ]
  },
  {
   "cell_type": "markdown",
   "metadata": {},
   "source": [
    "### Plot results"
   ]
  },
  {
   "cell_type": "code",
   "execution_count": 22,
   "metadata": {},
   "outputs": [
    {
     "data": {
      "image/png": "[encoded data removed]",
      "text/plain": [
       "<Figure size 432x288 with 1 Axes>"
      ]
     },
     "metadata": {},
     "output_type": "display_data"
    }
   ],
   "source": [
    "\n",
    "for key in precisions.keys():\n",
    "    plt.plot(precisions[key],label = key)\n",
    "plt.legend()\n",
    "plt.show()\n"
   ]
  },
  {
   "cell_type": "code",
   "execution_count": 42,
   "metadata": {},
   "outputs": [
    {
     "data": {
      "image/png": "[encoded data removed]",
      "text/plain": [
       "<Figure size 936x576 with 2 Axes>"
      ]
     },
     "metadata": {},
     "output_type": "display_data"
    },
    {
     "data": {
      "text/plain": [
       "<Figure size 432x288 with 0 Axes>"
      ]
     },
     "metadata": {},
     "output_type": "display_data"
    }
   ],
   "source": [
    "import seaborn as sns\n",
    "# Plot confusion matrix\n",
    "conf_mat = confusion_matrixs['NB'][4]\n",
    "\n",
    "#Normalize confusion_matrix\n",
    "conf_mat = conf_mat.astype('float')/ conf_mat.sum(axis=1)[:, np.newaxis]\n",
    "\n",
    "# Plot Heat Map\n",
    "fig , ax = plt.subplots()\n",
    "fig.set_size_inches(13, 8)\n",
    "ax = plt.axes()\n",
    "sns.heatmap(conf_mat,xticklabels = names, yticklabels = names,ax = ax)\n",
    "ax.set_title('Confusion matrix for Naive Bayes model')\n",
    "plt.show()\n",
    "plt.savefig('confusion_matrix.png')\n",
    "plt.savefig('books_read.png')"
   ]
  },
  {
   "cell_type": "code",
   "execution_count": null,
   "metadata": {},
   "outputs": [],
   "source": []
  }
 ],
 "metadata": {
  "kernelspec": {
   "display_name": "Python 3",
   "language": "python",
   "name": "python3"
  },
  "language_info": {
   "codemirror_mode": {
    "name": "ipython",
    "version": 3
   },
   "file_extension": ".py",
   "mimetype": "text/x-python",
   "name": "python",
   "nbconvert_exporter": "python",
   "pygments_lexer": "ipython3",
   "version": "3.7.1"
  }
 },
 "nbformat": 4,
 "nbformat_minor": 2
}
